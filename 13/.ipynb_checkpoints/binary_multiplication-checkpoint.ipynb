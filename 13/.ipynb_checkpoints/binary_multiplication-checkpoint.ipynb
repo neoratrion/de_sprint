{
 "cells": [
  {
   "cell_type": "code",
   "execution_count": 6,
   "id": "21010630",
   "metadata": {},
   "outputs": [
    {
     "data": {
      "text/plain": [
       "'100011'"
      ]
     },
     "execution_count": 6,
     "metadata": {},
     "output_type": "execute_result"
    }
   ],
   "source": [
    "a = '111'\n",
    "b = '101'\n",
    "\n",
    "print(bin(int(a, 2) * int(b, 2))[2:])"
   ]
  }
 ],
 "metadata": {
  "kernelspec": {
   "display_name": "Python 3 (ipykernel)",
   "language": "python",
   "name": "python3"
  },
  "language_info": {
   "codemirror_mode": {
    "name": "ipython",
    "version": 3
   },
   "file_extension": ".py",
   "mimetype": "text/x-python",
   "name": "python",
   "nbconvert_exporter": "python",
   "pygments_lexer": "ipython3",
   "version": "3.7.8"
  }
 },
 "nbformat": 4,
 "nbformat_minor": 5
}
