{
 "cells": [
  {
   "cell_type": "code",
   "execution_count": 1,
   "id": "c5931cbe",
   "metadata": {},
   "outputs": [
    {
     "name": "stdout",
     "output_type": "stream",
     "text": [
      "False\n"
     ]
    }
   ],
   "source": [
    "text = '{()(){}{}}['\n",
    "\n",
    "def correct_brackets(text):\n",
    "    brackets = ['()', '{}', '[]']\n",
    "    while any(x in text for x in brackets):\n",
    "        for b in brackets:\n",
    "            text = text.replace(b, '')\n",
    "    return not text\n",
    "\n",
    "print(correct_brackets(text))"
   ]
  }
 ],
 "metadata": {
  "kernelspec": {
   "display_name": "Python 3 (ipykernel)",
   "language": "python",
   "name": "python3"
  },
  "language_info": {
   "codemirror_mode": {
    "name": "ipython",
    "version": 3
   },
   "file_extension": ".py",
   "mimetype": "text/x-python",
   "name": "python",
   "nbconvert_exporter": "python",
   "pygments_lexer": "ipython3",
   "version": "3.7.8"
  },
  "vscode": {
   "interpreter": {
    "hash": "916dbcbb3f70747c44a77c7bcd40155683ae19c65e1c03b4aa3499c5328201f1"
   }
  }
 },
 "nbformat": 4,
 "nbformat_minor": 5
}
