{
 "cells": [
  {
   "cell_type": "code",
   "execution_count": 63,
   "id": "11e07b0a",
   "metadata": {},
   "outputs": [
    {
     "name": "stdout",
     "output_type": "stream",
     "text": [
      "23\n"
     ]
    },
    {
     "data": {
      "text/plain": [
       "'XXIII'"
      ]
     },
     "execution_count": 63,
     "metadata": {},
     "output_type": "execute_result"
    }
   ],
   "source": [
    "romans = {1000:'M', 900:'CM', 500:'D', 400:'CD', 100:'C', 90:'XC',\n",
    "          50:'L', 40:'XL', 10:'X', 9:'IX', 5:'V', 4:'IV', 1:'I'}\n",
    "\n",
    "def Romans(num):\n",
    "    result = ''\n",
    "    for k in romans.keys():\n",
    "        c = num // k\n",
    "        if c != 0: \n",
    "            result += romans[k] * c\n",
    "            num -= k * c\n",
    "    return result\n",
    "\n",
    "Romans(int(input()))"
   ]
  }
 ],
 "metadata": {
  "kernelspec": {
   "display_name": "Python 3 (ipykernel)",
   "language": "python",
   "name": "python3"
  },
  "language_info": {
   "codemirror_mode": {
    "name": "ipython",
    "version": 3
   },
   "file_extension": ".py",
   "mimetype": "text/x-python",
   "name": "python",
   "nbconvert_exporter": "python",
   "pygments_lexer": "ipython3",
   "version": "3.7.8"
  }
 },
 "nbformat": 4,
 "nbformat_minor": 5
}
